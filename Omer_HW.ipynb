{
 "cells": [
  {
   "cell_type": "code",
   "execution_count": 23,
   "id": "38ff7253",
   "metadata": {},
   "outputs": [
    {
     "name": "stdout",
     "output_type": "stream",
     "text": [
      "['Monday', 'Tuesday', 'Wednesday', 'Thursday', 'Friday']\n",
      "['First', 'Second', 'Third', 'Fourth']\n"
     ]
    }
   ],
   "source": [
    "days = [\"Monday\", \"Tuesday\", \"Wednesday\", \"Thursday\", \"Friday\"]\n",
    "weeks = [\"First\", \"Second\", \"Third\", \"Fourth\"]\n",
    "print(days)\n",
    "print(weeks)"
   ]
  },
  {
   "cell_type": "code",
   "execution_count": 24,
   "id": "a1ea50d4",
   "metadata": {},
   "outputs": [
    {
     "name": "stdout",
     "output_type": "stream",
     "text": [
      "['b', 'a1', 'g', 'a1', 'b', 'b', 'f', 'f', 'm', 'f', 'b', 'b', 'a2', 'f', 'a2', 'g', 'g', 'b', 'a1', 'a1']\n"
     ]
    }
   ],
   "source": [
    "import random\n",
    "\n",
    "# 20 elemanlı boş bir array oluştur\n",
    "values = [None] * 20\n",
    "\n",
    "for i in range(20):\n",
    "    values[i] = random.choice([\"m\", \"f\", \"b\", \"g\", \"a1\", \"a2\"])\n",
    "print(values)"
   ]
  },
  {
   "cell_type": "code",
   "execution_count": 55,
   "id": "c233edb1",
   "metadata": {},
   "outputs": [
    {
     "name": "stdout",
     "output_type": "stream",
     "text": [
      "[['b', 'a1', 'g', 'a1', 'b'], ['b', 'f', 'f', 'm', 'f'], ['b', 'b', 'a2', 'f', 'a2'], ['g', 'g', 'b', 'a1', 'a1']]\n",
      "{'First week': ['b', 'a1', 'g', 'a1', 'b'], 'Second week': ['b', 'f', 'f', 'm', 'f'], 'Third week': ['b', 'b', 'a2', 'f', 'a2'], 'Fourth week': ['g', 'g', 'b', 'a1', 'a1']}\n"
     ]
    }
   ],
   "source": [
    "# Matrisi oluşturma\n",
    "matrix = [[values[i + j * len(days)] for i in range(len(days))] for j in range(len(weeks))]\n",
    "\n",
    "result_list = [item for sublist in matrix for item in sublist]\n",
    "print(matrix)\n",
    "calendar_dict = {}\n",
    "for i in range(len(matrix)):\n",
    "    week_key = f\"{weeks[i]} week\"\n",
    "    calendar_dict[week_key] = matrix[i]\n",
    "print(calendar_dict)"
   ]
  },
  {
   "cell_type": "code",
   "execution_count": 85,
   "id": "1b7c50b4",
   "metadata": {},
   "outputs": [
    {
     "name": "stdout",
     "output_type": "stream",
     "text": [
      "[['b', 'a1', 'g', 'a1', 'b'], ['b', 'f', 'f', 'm', 'f'], ['b', 'b', 'a2', 'f', 'a2'], ['g', 'g', 'b', 'a1', 'a1']]\n"
     ]
    }
   ],
   "source": [
    "print(matrix)"
   ]
  },
  {
   "cell_type": "code",
   "execution_count": 140,
   "id": "66498839",
   "metadata": {},
   "outputs": [
    {
     "name": "stdout",
     "output_type": "stream",
     "text": [
      "False\n",
      "False\n",
      "True\n"
     ]
    }
   ],
   "source": [
    "def check_rule_m(matrix):\n",
    "    # Kural 1: Her bir arrayde 'm' 1 tane veya 0 tane olmalı\n",
    "    for week in matrix:\n",
    "        if week.count('m') != 0 and week.count('m') != 1:\n",
    "            return False\n",
    "    \n",
    "    # Kural 2: Eğer bir arrayde 'm' varsa diğer arraylerde ya hiç olmamalı ya da aynı indexte olmalı\n",
    "    for i in range(len(matrix)):\n",
    "        current_week = matrix[i]\n",
    "        for j in range(len(matrix)):\n",
    "            if i != j:\n",
    "                other_week = matrix[j]\n",
    "                if 'm' in current_week and ('m' in other_week and current_week.index('m') != other_week.index('m')):\n",
    "                    return False\n",
    "    return True\n",
    "\n",
    "# Test1 aynı index kuralına uymuyor\n",
    "matrix1 = [['b', 'a1', 'm', 'a1', 'b'],\n",
    "          ['b', 'f', 'g', 'm', 'f'],\n",
    "          ['b', 'b', 'a2', 'f', 'a2'],\n",
    "          ['g', 'g', 'b', 'a1', 'a1']]\n",
    "# Test2 count uymuyor\n",
    "matrix2 = [['b', 'a1', 'b', 'a1', 'b'],\n",
    "          ['b', 'f', 'm', 'm', 'f'],\n",
    "          ['b', 'b', 'a2', 'f', 'a2'],\n",
    "          ['g', 'g', 'b', 'a1', 'a1']]\n",
    "\n",
    "# Test3 her şey okey\n",
    "matrix3 = [['b', 'a1', 'b', 'a1', 'b'],\n",
    "          ['b', 'f', 'g', 'm', 'f'],\n",
    "          ['b', 'b', 'a2', 'f', 'a2'],\n",
    "          ['g', 'g', 'b', 'a1', 'a1']]\n",
    "\n",
    "print(check_rules_m(matrix1))\n",
    "print(check_rules_m(matrix2))\n",
    "print(check_rules_m(matrix3))"
   ]
  },
  {
   "cell_type": "code",
   "execution_count": 95,
   "id": "64d05ea0",
   "metadata": {},
   "outputs": [
    {
     "name": "stdout",
     "output_type": "stream",
     "text": [
      "False\n",
      "False\n",
      "True\n"
     ]
    }
   ],
   "source": [
    "def check_rule_f(matrix):\n",
    "\n",
    "    \n",
    "    for week in matrix:\n",
    "        f_indices = [i for i, day in enumerate(week) if day == 'f']\n",
    "        \n",
    "        # Kural: 'f'ler ardı ardına olmamalı\n",
    "        for i in range(len(f_indices) - 1):\n",
    "            if f_indices[i] + 1 == f_indices[i + 1]:\n",
    "                return False\n",
    "        \n",
    "        # Kural: 'f'lerin maksimum sayısı 2\n",
    "        if len(f_indices) > 2:\n",
    "            return False\n",
    "    \n",
    "    return True\n",
    "\n",
    "# Test1 2den fazla\n",
    "matrix1 = [['b', 'a1', 'g', 'a1', 'b'],\n",
    "          ['b', 'f', 'f', 'm', 'f'],\n",
    "          ['b', 'b', 'a2', 'f', 'a2'],\n",
    "          ['g', 'g', 'b', 'a1', 'a1']]\n",
    "# Test2 ardı ardına\n",
    "matrix2 = [['b', 'a1', 'g', 'a1', 'b'],\n",
    "          ['b', 'f', 'f', 'm', 't'],\n",
    "          ['b', 'b', 'a2', 't', 'a2'],\n",
    "          ['g', 'g', 'b', 'a1', 'a1']]\n",
    "# Test3 geçmesi lazım\n",
    "matrix3 = [['b', 'a1', 'g', 'a1', 'b'],\n",
    "          ['b', 'f', 'm', 'm', 'b'],\n",
    "          ['b', 'b', 'a2', 'f', 'a2'],\n",
    "          ['g', 'g', 'b', 'a1', 'a1']]\n",
    "\n",
    "print(check_rule_f(matrix1))\n",
    "print(check_rule_f(matrix2))\n",
    "print(check_rule_f(matrix3))"
   ]
  },
  {
   "cell_type": "code",
   "execution_count": 98,
   "id": "bb740965",
   "metadata": {},
   "outputs": [
    {
     "name": "stdout",
     "output_type": "stream",
     "text": [
      "False\n",
      "True\n",
      "True\n"
     ]
    }
   ],
   "source": [
    "def check_rule_g(matrix):\n",
    "    for i in range(len(matrix)):\n",
    "        current_week = matrix[i]\n",
    "        if len(current_week) > 2 and current_week[2] == 'g':\n",
    "            for j in range(len(matrix)):\n",
    "                if i != j and len(matrix[j]) > 2 and matrix[j][2] == 'g':\n",
    "                    return False\n",
    "    return True\n",
    "\n",
    "# Test1 2 haftada çarşamba günü g var\n",
    "matrix1 = [['b', 'a1', 'g', 'a1', 'b'],\n",
    "          ['b', 'f', 'g', 'm', 'f'],\n",
    "          ['b', 'b', 'a2', 'f', 'a2'],\n",
    "          ['g', 'g', 'b', 'a1', 'a1']]\n",
    "# Test2 çarşamba g yok\n",
    "matrix2 = [['b', 'a1', 'm', 'a1', 'b'],\n",
    "          ['b', 'f', 'm', 'm', 'f'],\n",
    "          ['b', 'b', 'm', 'f', 'a2'],\n",
    "          ['g', 'g', 'b', 'a1', 'a1']]\n",
    "\n",
    "# Test3 sadece 1 haftada çarşamba g var\n",
    "matrix3 = [['b', 'a1', 'g', 'a1', 'b'],\n",
    "          ['b', 'f', 'f', 'm', 'f'],\n",
    "          ['b', 'b', 'a2', 'f', 'a2'],\n",
    "          ['g', 'g', 'b', 'a1', 'a1']]\n",
    "\n",
    "print(check_rule_g(matrix1))\n",
    "print(check_rule_g(matrix2))\n",
    "print(check_rule_g(matrix3))"
   ]
  },
  {
   "cell_type": "code",
   "execution_count": 122,
   "id": "7cb53e6f",
   "metadata": {},
   "outputs": [
    {
     "name": "stdout",
     "output_type": "stream",
     "text": [
      "False\n",
      "True\n"
     ]
    }
   ],
   "source": [
    "def check_rule_a1(matrix):\n",
    "    for week in matrix:\n",
    "        if 'a1' in week:\n",
    "            if week.index('a1') not in [1,4]:\n",
    "                return False\n",
    "    return True\n",
    "\n",
    "# Test1 a1 3. indexte\n",
    "matrix1 = [['b', 'a1', 'g', 'a1', 'b'],\n",
    "           ['b', 'f', 'f', 'm', 'f'],\n",
    "           ['b', 'b', 'a2', 'f', 'a2'],\n",
    "           ['g', 'g', 'b', 'a1', 'a1']]\n",
    "\n",
    "# Test1 a1 salı ve cuma olabilir\n",
    "matrix2 = [['b', 'a1', 'g', 'b', 'b'],\n",
    "           ['b', 'f', 'f', 'm', 'f'],\n",
    "           ['b', 'b', 'b', 'f', 'b'],\n",
    "           ['g', 'g', 'b', 'b', 'a1']]\n",
    "\n",
    "print(check_rule_a1(matrix1)) \n",
    "print(check_rule_a1(matrix2))  \n"
   ]
  },
  {
   "cell_type": "code",
   "execution_count": 136,
   "id": "0e51d4ef",
   "metadata": {},
   "outputs": [
    {
     "name": "stdout",
     "output_type": "stream",
     "text": [
      "False\n",
      "True\n",
      "False\n"
     ]
    }
   ],
   "source": [
    "def check_rule_a2(matrix):\n",
    "    for week in matrix:\n",
    "        if 'a2' in week:\n",
    "            if week.index('a2') not in [0, 2]:\n",
    "                return False\n",
    "    return True\n",
    "\n",
    "# Test1 a2 1. indexte\n",
    "matrix1 = [['b', 'a1', 'g', 'a1', 'b'],\n",
    "           ['b', 'a2', 'f', 'm', 'f'],\n",
    "           ['b', 'b', 'a2', 'f', 'b'],\n",
    "           ['g', 'g', 'b', 'a1', 'a1']]\n",
    "\n",
    "# Test2 a2 salı ve cuma olabilir\n",
    "matrix2 = [['a2', 'a1', 'g', 'b', 'b'],\n",
    "           ['b', 'f', 'f', 'm', 'f'],\n",
    "           ['b', 'b', 'a2', 'f', 'b'],\n",
    "           ['g', 'g', 'b', 'b', 'a1']]\n",
    "\n",
    "# Test2 a2 4. indexte\n",
    "matrix3 = [['a1', 'a1', 'g', 'b', 'b'],\n",
    "           ['b', 'f', 'f', 'm', 'f'],\n",
    "           ['b', 'b', 'a2', 'f', 'b'],\n",
    "           ['g', 'g', 'b', 'b', 'a2']]\n",
    "\n",
    "print(check_rule_a2(matrix1))  # False\n",
    "print(check_rule_a2(matrix2))  # True\n",
    "print(check_rule_a2(matrix3))  # False\n",
    "\n"
   ]
  },
  {
   "cell_type": "code",
   "execution_count": 137,
   "id": "aa29bf34",
   "metadata": {},
   "outputs": [
    {
     "name": "stdout",
     "output_type": "stream",
     "text": [
      "False\n",
      "False\n",
      "True\n"
     ]
    }
   ],
   "source": [
    "def check_rule_n(matrix):\n",
    "    for week in matrix:\n",
    "        if 'n' in week:\n",
    "            if week.index('n') not in [0,1,2]:\n",
    "                return False\n",
    "    return True\n",
    "\n",
    "# Test1 n 0-1-3 indexte\n",
    "matrix1 = [['n', 'a1', 'g', 'a1', 'b'],\n",
    "           ['b', 'n', 'f', 'm', 'f'],\n",
    "           ['b', 'b', 'a2', 'n', 'b'],\n",
    "           ['g', 'g', 'b', 'a1', 'a1']]\n",
    "\n",
    "# Test2 n 3-4 indexte\n",
    "matrix2 = [['a2', 'a1', 'g', 'b', 'b'],\n",
    "           ['b', 'f', 'f', 'm', 'f'],\n",
    "           ['b', 'b', 'a2', 'f', 'n'],\n",
    "           ['g', 'g', 'b', 'n', 'a1']]\n",
    "\n",
    "# Test2 n doğru yerlerde\n",
    "matrix3 = [['a1', 'a1', 'g', 'b', 'b'],\n",
    "           ['n', 'f', 'f', 'm', 'f'],\n",
    "           ['b', 'b', 'a2', 'f', 'b'],\n",
    "           ['g', 'g', 'b', 'b', 'a2']]\n",
    "\n",
    "print(check_rule_n(matrix1))  # False\n",
    "print(check_rule_n(matrix2))  # False\n",
    "print(check_rule_n(matrix3))  # True"
   ]
  },
  {
   "cell_type": "code",
   "execution_count": 141,
   "id": "28fa5119",
   "metadata": {},
   "outputs": [
    {
     "name": "stdout",
     "output_type": "stream",
     "text": [
      "[2, 6]\n"
     ]
    }
   ],
   "source": [
    "matrix = [['a2', 'a1', 'g', 'b', 'b'],\n",
    "           ['b', 'f', 'f', 'm', 'f'],\n",
    "           ['b', 'b', 'a2', 'f', 'n'],\n",
    "           ['g', 'g', 'b', 'n', 'a1']]\n",
    "result=[]\n",
    "if check_rule_m(matrix) == 0:\n",
    "    result.append(1)\n",
    "\n",
    "if check_rule_f(matrix) == 0:\n",
    "    result.append(2)\n",
    "\n",
    "if check_rule_g(matrix) == 0:\n",
    "    result.append(3)\n",
    "    \n",
    "if check_rule_a1(matrix) == 0:\n",
    "    result.append(4)\n",
    "\n",
    "if check_rule_a2(matrix) == 0:\n",
    "    result.append(5)\n",
    "    \n",
    "if check_rule_n(matrix) == 0:\n",
    "    result.append(6)\n",
    "\n",
    "print(result)\n",
    " "
   ]
  },
  {
   "cell_type": "code",
   "execution_count": null,
   "id": "2dc9e476",
   "metadata": {},
   "outputs": [],
   "source": []
  }
 ],
 "metadata": {
  "kernelspec": {
   "display_name": "Python 3 (ipykernel)",
   "language": "python",
   "name": "python3"
  },
  "language_info": {
   "codemirror_mode": {
    "name": "ipython",
    "version": 3
   },
   "file_extension": ".py",
   "mimetype": "text/x-python",
   "name": "python",
   "nbconvert_exporter": "python",
   "pygments_lexer": "ipython3",
   "version": "3.11.3"
  }
 },
 "nbformat": 4,
 "nbformat_minor": 5
}
